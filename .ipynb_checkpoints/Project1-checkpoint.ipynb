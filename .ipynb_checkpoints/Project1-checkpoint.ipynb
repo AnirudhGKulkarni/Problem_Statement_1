{
 "cells": [
  {
   "cell_type": "code",
   "execution_count": 1,
   "id": "0923c16a-a902-49b5-903b-9f8186d10e51",
   "metadata": {},
   "outputs": [
    {
     "data": {
      "text/plain": [
       "{1: 'N',\n",
       " 2: (13.0, 0.0, 40.3987),\n",
       " 3: 'E',\n",
       " 4: (77.0, 33.0, 20.885),\n",
       " 5: b'\\x00',\n",
       " 6: 866.0,\n",
       " 7: (9.0, 8.0, 42.0),\n",
       " 27: 'CELLID',\n",
       " 29: '2023:11:04'}"
      ]
     },
     "execution_count": 1,
     "metadata": {},
     "output_type": "execute_result"
    }
   ],
   "source": [
    "import PIL.Image\n",
    "\n",
    "img = PIL.Image.open(\"ani.jpg\")\n",
    "\n",
    "import PIL.ExifTags\n",
    "exif = {\n",
    "    PIL.ExifTags.TAGS[k]: v\n",
    "    for k, v in img._getexif().items()\n",
    "    if k in PIL.ExifTags.TAGS\n",
    "}\n",
    "\n",
    "exif['GPSInfo']"
   ]
  },
  {
   "cell_type": "code",
   "execution_count": 2,
   "id": "ecd4a2a5-8fa0-4205-be1a-ff756503e6e0",
   "metadata": {},
   "outputs": [
    {
     "data": {
      "text/plain": [
       "(13.0, 0.0, 40.3987)"
      ]
     },
     "execution_count": 2,
     "metadata": {},
     "output_type": "execute_result"
    }
   ],
   "source": [
    "north = exif['GPSInfo'][2]\n",
    "east = exif['GPSInfo'][4]\n",
    "north"
   ]
  },
  {
   "cell_type": "code",
   "execution_count": 3,
   "id": "ad0ead90-5c16-4cf6-ba43-42a0e7925f0d",
   "metadata": {},
   "outputs": [
    {
     "data": {
      "text/plain": [
       "(77.0, 33.0, 20.885)"
      ]
     },
     "execution_count": 3,
     "metadata": {},
     "output_type": "execute_result"
    }
   ],
   "source": [
    "east"
   ]
  },
  {
   "cell_type": "code",
   "execution_count": 4,
   "id": "15eb0485-329c-46e7-93cb-1c33f9840cd1",
   "metadata": {},
   "outputs": [],
   "source": [
    "lat = ((((north[0] * 60) + north[1]) * 60) + north[2]) / 60 /60\n",
    "long = ((((east[0] * 60) + east[1]) * 60) + east[2]) / 60 /60"
   ]
  },
  {
   "cell_type": "code",
   "execution_count": 5,
   "id": "dafdd677-4bac-44cf-848e-512fdb03bcbe",
   "metadata": {},
   "outputs": [],
   "source": [
    "lat, long = float(lat), float(long)"
   ]
  },
  {
   "cell_type": "code",
   "execution_count": 6,
   "id": "6b50359a-a59b-494d-9bd3-860dd5b1dfbd",
   "metadata": {},
   "outputs": [
    {
     "data": {
      "text/plain": [
       "13.01122186111111"
      ]
     },
     "execution_count": 6,
     "metadata": {},
     "output_type": "execute_result"
    }
   ],
   "source": [
    "lat"
   ]
  },
  {
   "cell_type": "code",
   "execution_count": 7,
   "id": "3d3e4206-cc78-465d-a4e8-2cf4ab554122",
   "metadata": {},
   "outputs": [
    {
     "data": {
      "text/plain": [
       "77.5558013888889"
      ]
     },
     "execution_count": 7,
     "metadata": {},
     "output_type": "execute_result"
    }
   ],
   "source": [
    "long"
   ]
  },
  {
   "cell_type": "code",
   "execution_count": 8,
   "id": "27fa116e-0343-48b7-98fc-df969a143ef8",
   "metadata": {},
   "outputs": [
    {
     "data": {
      "text/html": [
       "<div style=\"width:100%;\"><div style=\"position:relative;width:100%;height:0;padding-bottom:60%;\"><span style=\"color:#565656\">Make this Notebook Trusted to load map: File -> Trust Notebook</span><iframe srcdoc=\"&lt;!DOCTYPE html&gt;\n",
       "&lt;html&gt;\n",
       "&lt;head&gt;\n",
       "    \n",
       "    &lt;meta http-equiv=&quot;content-type&quot; content=&quot;text/html; charset=UTF-8&quot; /&gt;\n",
       "    \n",
       "        &lt;script&gt;\n",
       "            L_NO_TOUCH = false;\n",
       "            L_DISABLE_3D = false;\n",
       "        &lt;/script&gt;\n",
       "    \n",
       "    &lt;style&gt;html, body {width: 100%;height: 100%;margin: 0;padding: 0;}&lt;/style&gt;\n",
       "    &lt;style&gt;#map {position:absolute;top:0;bottom:0;right:0;left:0;}&lt;/style&gt;\n",
       "    &lt;script src=&quot;https://cdn.jsdelivr.net/npm/leaflet@1.9.3/dist/leaflet.js&quot;&gt;&lt;/script&gt;\n",
       "    &lt;script src=&quot;https://code.jquery.com/jquery-3.7.1.min.js&quot;&gt;&lt;/script&gt;\n",
       "    &lt;script src=&quot;https://cdn.jsdelivr.net/npm/bootstrap@5.2.2/dist/js/bootstrap.bundle.min.js&quot;&gt;&lt;/script&gt;\n",
       "    &lt;script src=&quot;https://cdnjs.cloudflare.com/ajax/libs/Leaflet.awesome-markers/2.0.2/leaflet.awesome-markers.js&quot;&gt;&lt;/script&gt;\n",
       "    &lt;link rel=&quot;stylesheet&quot; href=&quot;https://cdn.jsdelivr.net/npm/leaflet@1.9.3/dist/leaflet.css&quot;/&gt;\n",
       "    &lt;link rel=&quot;stylesheet&quot; href=&quot;https://cdn.jsdelivr.net/npm/bootstrap@5.2.2/dist/css/bootstrap.min.css&quot;/&gt;\n",
       "    &lt;link rel=&quot;stylesheet&quot; href=&quot;https://netdna.bootstrapcdn.com/bootstrap/3.0.0/css/bootstrap.min.css&quot;/&gt;\n",
       "    &lt;link rel=&quot;stylesheet&quot; href=&quot;https://cdn.jsdelivr.net/npm/@fortawesome/fontawesome-free@6.2.0/css/all.min.css&quot;/&gt;\n",
       "    &lt;link rel=&quot;stylesheet&quot; href=&quot;https://cdnjs.cloudflare.com/ajax/libs/Leaflet.awesome-markers/2.0.2/leaflet.awesome-markers.css&quot;/&gt;\n",
       "    &lt;link rel=&quot;stylesheet&quot; href=&quot;https://cdn.jsdelivr.net/gh/python-visualization/folium/folium/templates/leaflet.awesome.rotate.min.css&quot;/&gt;\n",
       "    \n",
       "            &lt;meta name=&quot;viewport&quot; content=&quot;width=device-width,\n",
       "                initial-scale=1.0, maximum-scale=1.0, user-scalable=no&quot; /&gt;\n",
       "            &lt;style&gt;\n",
       "                #map_8b5580d2364d5fba0b6dbfa8d7f66594 {\n",
       "                    position: relative;\n",
       "                    width: 100.0%;\n",
       "                    height: 100.0%;\n",
       "                    left: 0.0%;\n",
       "                    top: 0.0%;\n",
       "                }\n",
       "                .leaflet-container { font-size: 1rem; }\n",
       "            &lt;/style&gt;\n",
       "        \n",
       "&lt;/head&gt;\n",
       "&lt;body&gt;\n",
       "    \n",
       "    \n",
       "            &lt;div class=&quot;folium-map&quot; id=&quot;map_8b5580d2364d5fba0b6dbfa8d7f66594&quot; &gt;&lt;/div&gt;\n",
       "        \n",
       "&lt;/body&gt;\n",
       "&lt;script&gt;\n",
       "    \n",
       "    \n",
       "            var map_8b5580d2364d5fba0b6dbfa8d7f66594 = L.map(\n",
       "                &quot;map_8b5580d2364d5fba0b6dbfa8d7f66594&quot;,\n",
       "                {\n",
       "                    center: [13.01122186111111, 77.5558013888889],\n",
       "                    crs: L.CRS.EPSG3857,\n",
       "                    zoom: 13,\n",
       "                    zoomControl: true,\n",
       "                    preferCanvas: false,\n",
       "                }\n",
       "            );\n",
       "\n",
       "            \n",
       "\n",
       "        \n",
       "    \n",
       "            var tile_layer_48498075a3048975c5db1228599a393a = L.tileLayer(\n",
       "                &quot;https://tile.openstreetmap.org/{z}/{x}/{y}.png&quot;,\n",
       "                {&quot;attribution&quot;: &quot;\\u0026copy; \\u003ca href=\\&quot;https://www.openstreetmap.org/copyright\\&quot;\\u003eOpenStreetMap\\u003c/a\\u003e contributors&quot;, &quot;detectRetina&quot;: false, &quot;maxNativeZoom&quot;: 19, &quot;maxZoom&quot;: 19, &quot;minZoom&quot;: 0, &quot;noWrap&quot;: false, &quot;opacity&quot;: 1, &quot;subdomains&quot;: &quot;abc&quot;, &quot;tms&quot;: false}\n",
       "            );\n",
       "        \n",
       "    \n",
       "            tile_layer_48498075a3048975c5db1228599a393a.addTo(map_8b5580d2364d5fba0b6dbfa8d7f66594);\n",
       "        \n",
       "    \n",
       "            var marker_13109ddbd5207e04769119c6d2d83074 = L.marker(\n",
       "                [13.01122186111111, 77.5558013888889],\n",
       "                {}\n",
       "            ).addTo(map_8b5580d2364d5fba0b6dbfa8d7f66594);\n",
       "        \n",
       "    \n",
       "        var popup_99120c9b4ec38c6cb3923534413ab3eb = L.popup({&quot;maxWidth&quot;: &quot;100%&quot;});\n",
       "\n",
       "        \n",
       "            \n",
       "                var html_40cb0d33af454de47b7ad3f757410207 = $(`&lt;div id=&quot;html_40cb0d33af454de47b7ad3f757410207&quot; style=&quot;width: 100.0%; height: 100.0%;&quot;&gt;My Home&lt;/div&gt;`)[0];\n",
       "                popup_99120c9b4ec38c6cb3923534413ab3eb.setContent(html_40cb0d33af454de47b7ad3f757410207);\n",
       "            \n",
       "        \n",
       "\n",
       "        marker_13109ddbd5207e04769119c6d2d83074.bindPopup(popup_99120c9b4ec38c6cb3923534413ab3eb)\n",
       "        ;\n",
       "\n",
       "        \n",
       "    \n",
       "&lt;/script&gt;\n",
       "&lt;/html&gt;\" style=\"position:absolute;width:100%;height:100%;left:0;top:0;border:none !important;\" allowfullscreen webkitallowfullscreen mozallowfullscreen></iframe></div></div>"
      ],
      "text/plain": [
       "<folium.folium.Map at 0x1e896a38c80>"
      ]
     },
     "execution_count": 8,
     "metadata": {},
     "output_type": "execute_result"
    }
   ],
   "source": [
    "from gmplot import *\n",
    "import folium \n",
    "map = folium.Map(location=[lat,long], zoom_start=13)\n",
    "folium.Marker([lat,long], popup='My Home').add_to(map)\n",
    "map\n"
   ]
  },
  {
   "cell_type": "code",
   "execution_count": 9,
   "id": "359f0f81-fa2d-4be1-a1aa-5a0b12f38770",
   "metadata": {},
   "outputs": [
    {
     "name": "stdout",
     "output_type": "stream",
     "text": [
      "Hatti Kaapi, L1, Dr. Rajkumar Road, Milk Colony, Subramanya Nagar, West Zone, Bengaluru, Bangalore North, Bengaluru Urban District, Karnataka, 560055, India\n"
     ]
    }
   ],
   "source": [
    "from geopy.geocoders import Nominatim\n",
    "geoLoc = Nominatim(user_agent=\"GetLoc\")\n",
    "locname = geoLoc.reverse(f\"{lat}, {long}\")\n",
    "print(locname.address)"
   ]
  },
  {
   "cell_type": "code",
   "execution_count": null,
   "id": "85ff376e-4c62-410c-a59c-9e0f3dd1e7b4",
   "metadata": {},
   "outputs": [],
   "source": []
  },
  {
   "cell_type": "code",
   "execution_count": null,
   "id": "79a232b9-4919-4e4b-a8c4-256a747f0e54",
   "metadata": {},
   "outputs": [],
   "source": []
  }
 ],
 "metadata": {
  "kernelspec": {
   "display_name": "Python 3 (ipykernel)",
   "language": "python",
   "name": "python3"
  },
  "language_info": {
   "codemirror_mode": {
    "name": "ipython",
    "version": 3
   },
   "file_extension": ".py",
   "mimetype": "text/x-python",
   "name": "python",
   "nbconvert_exporter": "python",
   "pygments_lexer": "ipython3",
   "version": "3.12.0"
  }
 },
 "nbformat": 4,
 "nbformat_minor": 5
}
